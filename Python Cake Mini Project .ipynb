{
 "cells": [
  {
   "cell_type": "code",
   "execution_count": null,
   "id": "1ab6b104",
   "metadata": {},
   "outputs": [],
   "source": [
    "Project 21:\n",
    "Your task is to find if it is possible to cut the cake in the below mentioned ways for a given value of N.\n",
    "Given an integer N and a cake which can be cut into pieces, each cut should be a straight line going from the center of the cake to its border. Also, the angle between any two cuts must be a positive integer. Two pieces are equal if their appropriate angles are equal. \n",
    "The given cake can be cut in following three ways: \n",
    "•\tCut the cake into N equal pieces.\n",
    "•\tCut the cake into N pieces of any size.\n",
    "•\tCut the cake into N pieces such that no two of them are equal.\n"
   ]
  },
  {
   "cell_type": "code",
   "execution_count": 18,
   "id": "80833c6d",
   "metadata": {},
   "outputs": [
    {
     "name": "stdout",
     "output_type": "stream",
     "text": [
      "Enter N: 12\n",
      "YES the cake will cut into 12 pieces of equal size\n",
      "Yes the cake will cut into 12 pieces of any size\n",
      "Yes the cake will cut into 12 pieces such that no two of them are equal\n"
     ]
    }
   ],
   "source": [
    "cakeangle=360                                                                    # as center of cake will we of 360 degrees\n",
    "N=eval(input(\"Enter N: \"))                                                       # N is the no. of pieces \n",
    "'''\n",
    "As we know that angle subtended at the centre is 360’.\n",
    "If we want to partition 360’ into N equal parts, then 360 should be divisible by N.\n",
    "Hence we just have to check the condition whether 360 % N = 0 or not ?\n",
    "'''\n",
    "if(cakeangle%N==0):\n",
    "    print(\"YES the cake will cut into %d pieces of equal size\"%N)\n",
    "else:\n",
    "    print(\"NO the cake will not cut into %d pieces of equal pieces\"%N)\n",
    "    \n",
    "''' Now if we want to cut the cake in N pieces of any size\n",
    "Maximum number of pieces we can make are 360 (chose the angle = 1).\n",
    "So if we need to find whether we can make N pieces, we just need to check whether N is less or equal to 360 or not.\n",
    "If yes, then we can make N pieces otherwise we can not.\n",
    "'''    \n",
    "if(N<=cakeangle):                                                                \n",
    "    print(\"Yes the cake will cut into %d pieces of any size\"%N)\n",
    "else:\n",
    "    print(\"No the cake will not cut into %d pieces of any size\"%N)\n",
    "    \n",
    "'''\n",
    "If want to make N pieces, such that no two of them are equal. Then we can make them in order 1, 2, 3, 4, upto N pieces.\n",
    "Sum of the sequence upto N terms will be (N * (N + 1)) / 2.\n",
    "Hence if sum of the sequence is going to be less or equal to 360,\n",
    "then we are surely going to make N distinct pieces. (pieces will have angles 1, 2, upto N). Otherwise we can not.\n",
    "'''    \n",
    "if (N*(N+1))/2 <= 360:\n",
    "    print(\"Yes the cake will cut into %d pieces such that no two of them are equal\"%N)\n",
    "else:\n",
    "    print(\"No the cake will not cut into %d pieces such that no two of them are equal\"%N)"
   ]
  },
  {
   "cell_type": "code",
   "execution_count": null,
   "id": "84267a51",
   "metadata": {},
   "outputs": [],
   "source": []
  }
 ],
 "metadata": {
  "kernelspec": {
   "display_name": "Python 3 (ipykernel)",
   "language": "python",
   "name": "python3"
  },
  "language_info": {
   "codemirror_mode": {
    "name": "ipython",
    "version": 3
   },
   "file_extension": ".py",
   "mimetype": "text/x-python",
   "name": "python",
   "nbconvert_exporter": "python",
   "pygments_lexer": "ipython3",
   "version": "3.9.12"
  }
 },
 "nbformat": 4,
 "nbformat_minor": 5
}
